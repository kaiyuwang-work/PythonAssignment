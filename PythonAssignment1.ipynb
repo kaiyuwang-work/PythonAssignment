{
 "cells": [
  {
   "cell_type": "code",
   "execution_count": 2,
   "metadata": {},
   "outputs": [
    {
     "name": "stdout",
     "output_type": "stream",
     "text": [
      "OrderedDict([('\\ufeffcountry', 'Armenia'), ('lat', '40'), ('long', '45')])\n"
     ]
    },
    {
     "name": "stdin",
     "output_type": "stream",
     "text": [
      "What country am I? Canada\n"
     ]
    },
    {
     "name": "stdout",
     "output_type": "stream",
     "text": [
      "I am located south of canada\n",
      "I am located east of canada\n"
     ]
    },
    {
     "name": "stdin",
     "output_type": "stream",
     "text": [
      "What country am I? Armenia\n"
     ]
    },
    {
     "name": "stdout",
     "output_type": "stream",
     "text": [
      "Well done! You have successfully indentified the country\n"
     ]
    }
   ],
   "source": [
    "import csv\n",
    "import random\n",
    "\n",
    "file_handle = open('Countries.csv') #where countries.csv stored\n",
    "reader = csv.DictReader(file_handle) #read the contents of the file into a dictionary\n",
    "countries = list(reader) #convert the reader into a list \n",
    "\n",
    "file_handle.close() #close the file since we're done with it\n",
    "\n",
    "randomcountry = random.choice(countries)\n",
    "guess =\"\" #instantiate an empty string\n",
    "attempts = 0 #set the number of attempts = 0\n",
    "unmatched = False\n",
    "print(randomcountry)\n",
    "\n",
    "randomcountryname = randomcountry['\\ufeffcountry']\n",
    "\n",
    "\n",
    "while guess != randomcountryname and attempts <10:\n",
    "    guess = input(\"What country am I?\").casefold()\n",
    "    attempts += 1\n",
    "    if guess == randomcountryname.casefold():\n",
    "        print(\"Well done! You have successfully indentified the country\")\n",
    "        break\n",
    "    if attempts >=10:\n",
    "        print(\"You are fresh out of guesses\")\n",
    "        break\n",
    "        \n",
    "        \n",
    "    for country in countries:\n",
    "\n",
    "        if guess.casefold() == country['\\ufeffcountry'].casefold():\n",
    "          if randomcountry['lat'] >country['lat']:\n",
    "             print('I am located north of ' +guess)\n",
    "          else:\n",
    "             print('I am located south of '+guess)\n",
    "\n",
    "\n",
    "          if randomcountry['long'] >country['long']:\n",
    "            print('I am located east of ' +guess)\n",
    "          else:\n",
    "            print('I am located west of '+guess)\n"
   ]
  }
 ],
 "metadata": {
  "kernelspec": {
   "display_name": "Python 3",
   "language": "python",
   "name": "python3"
  },
  "language_info": {
   "codemirror_mode": {
    "name": "ipython",
    "version": 3
   },
   "file_extension": ".py",
   "mimetype": "text/x-python",
   "name": "python",
   "nbconvert_exporter": "python",
   "pygments_lexer": "ipython3",
   "version": "3.6.8"
  }
 },
 "nbformat": 4,
 "nbformat_minor": 2
}
