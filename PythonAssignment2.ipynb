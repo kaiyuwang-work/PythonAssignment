{
 "cells": [
  {
   "cell_type": "code",
   "execution_count": 20,
   "metadata": {},
   "outputs": [
    {
     "name": "stdout",
     "output_type": "stream",
     "text": [
      "appliance, television and other electronics store,art dealer,audio and video recordings store,automotive parts and accessories store,baked goods store,beer and wine-making supplies store,beer, wine and liquor store,book stores and news deale\n"
     ]
    },
    {
     "name": "stdin",
     "output_type": "stream",
     "text": [
      "Add another item onto the retail list? \n",
      " addsomething\n"
     ]
    },
    {
     "name": "stdout",
     "output_type": "stream",
     "text": [
      "\n",
      "\n",
      "NEW_TYPE IS: \n",
      "addsomething\n",
      "\n",
      "NOW YOUR RETAIL_TYPES HAS UPDATED TO: \n",
      "appliance, television and other electronics store,art dealer,audio and video recordings store,automotive parts and accessories store,baked goods store,beer and wine-making supplies store,beer, wine and liquor store,book stores and news deale , addsomething\n",
      "\n",
      "HERE IS THE TUPLE OF EVERY FORTH ENTRY: \n",
      "('audio and video recordings store', 'beer')\n"
     ]
    }
   ],
   "source": [
    "# read retail txt\n",
    "data=open('retail.txt','r') \n",
    "read_table = data.readlines()\n",
    "data.close()\n",
    "#random concat first 8 rows \n",
    "retail_types = ''\n",
    "#since some retail types contains ',' here \n",
    "for line in range(0,8,1):\n",
    "    retail_types += read_table[line][:-2].casefold()+\",\"\n",
    "    \n",
    "#deal with the last ','\n",
    "retail_types =retail_types[:-2]\n",
    "print(retail_types)\n",
    "\n",
    "\n",
    "new_type = str(input(\"Add another item onto the retail list? \\n\")).casefold()\n",
    "print('\\n')\n",
    "print(\"new_type is: \\n\".upper()+new_type+'\\n')\n",
    "retail_types += ' , '+new_type    \n",
    "print('now your retail_types has updated to: \\n'.upper()+ retail_types+'\\n')\n",
    "\n",
    "\n",
    "\n",
    "\n",
    "#make it to a list\n",
    "retail_types = retail_types.split(',')\n",
    "#every forth entrance\n",
    "retail_fourth = [retail_types[i] for i in range(3,len(retail_types),4)]\n",
    "\n",
    "\n",
    "retail_forth_tuple = tuple(retail_fourth)\n",
    "print('here is the tuple of every forth entry: \\n'.upper()+str(retail_forth_tuple))"
   ]
  }
 ],
 "metadata": {
  "kernelspec": {
   "display_name": "Python 3",
   "language": "python",
   "name": "python3"
  },
  "language_info": {
   "codemirror_mode": {
    "name": "ipython",
    "version": 3
   },
   "file_extension": ".py",
   "mimetype": "text/x-python",
   "name": "python",
   "nbconvert_exporter": "python",
   "pygments_lexer": "ipython3",
   "version": "3.6.8"
  }
 },
 "nbformat": 4,
 "nbformat_minor": 2
}
